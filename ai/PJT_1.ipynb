{
 "cells": [
  {
   "cell_type": "code",
   "execution_count": 24,
   "id": "ba1539f5",
   "metadata": {},
   "outputs": [
    {
     "name": "stdout",
     "output_type": "stream",
     "text": [
      "['시트1']\n",
      "나 유치원 때 잠깐 사물함 뒤쪽에 뭐 좀 넣어놓고 문을 탁 닫으니까 한 남자애가 있는거야! 그리고 날 그윽하게 보더니 ”이것만은 잊지마” 라고 하고 볼에 뽀뽀해주고 갔어\n"
     ]
    },
    {
     "name": "stderr",
     "output_type": "stream",
     "text": [
      "C:\\Users\\SSAFY\\.conda\\envs\\pjt_1\\lib\\site-packages\\ipykernel_launcher.py:9: DeprecationWarning: Call to deprecated function get_sheet_names (Use wb.sheetnames).\n",
      "  if __name__ == \"__main__\":\n"
     ]
    }
   ],
   "source": [
    "import numpy as np\n",
    "import pandas as pd\n",
    "import re\n",
    "from openpyxl import load_workbook\n",
    "\n",
    "DATA_PATH = './somelight_1.xlsx'\n",
    "# pd.read_excel(DATA_PATH, engine='openpyxl')\n",
    "data = load_workbook(DATA_PATH, data_only=True)\n",
    "sheet_list = data.get_sheet_names()\n",
    "print(sheet_list)\n",
    "dataset = data[sheet_list[0]]\n",
    "a = dataset.cell(row=2, column=1).value\n",
    "print(a)"
   ]
  },
  {
   "cell_type": "code",
   "execution_count": 6,
   "id": "870d7094",
   "metadata": {},
   "outputs": [
    {
     "name": "stdout",
     "output_type": "stream",
     "text": [
      "Collecting openpyxl\n",
      "  Downloading openpyxl-3.1.1-py2.py3-none-any.whl (249 kB)\n",
      "     -------------------------------------- 249.8/249.8 kB 7.7 MB/s eta 0:00:00\n",
      "Collecting et-xmlfile\n",
      "  Downloading et_xmlfile-1.1.0-py3-none-any.whl (4.7 kB)\n",
      "Installing collected packages: et-xmlfile, openpyxl\n",
      "Successfully installed et-xmlfile-1.1.0 openpyxl-3.1.1\n"
     ]
    }
   ],
   "source": [
    "!pip install openpyxl"
   ]
  },
  {
   "cell_type": "code",
   "execution_count": null,
   "id": "eb563fec",
   "metadata": {},
   "outputs": [],
   "source": []
  }
 ],
 "metadata": {
  "kernelspec": {
   "display_name": "Python 3 (ipykernel)",
   "language": "python",
   "name": "python3"
  },
  "language_info": {
   "codemirror_mode": {
    "name": "ipython",
    "version": 3
   },
   "file_extension": ".py",
   "mimetype": "text/x-python",
   "name": "python",
   "nbconvert_exporter": "python",
   "pygments_lexer": "ipython3",
   "version": "3.7.16"
  }
 },
 "nbformat": 4,
 "nbformat_minor": 5
}
