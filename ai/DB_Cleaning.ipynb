{
 "cells": [
  {
   "cell_type": "code",
   "execution_count": 1,
   "id": "f2792cd9",
   "metadata": {},
   "outputs": [
    {
     "name": "stdout",
     "output_type": "stream",
     "text": [
      "File Size: 0.03MB\n"
     ]
    },
    {
     "data": {
      "text/html": [
       "<div>\n",
       "<style scoped>\n",
       "    .dataframe tbody tr th:only-of-type {\n",
       "        vertical-align: middle;\n",
       "    }\n",
       "\n",
       "    .dataframe tbody tr th {\n",
       "        vertical-align: top;\n",
       "    }\n",
       "\n",
       "    .dataframe thead th {\n",
       "        text-align: right;\n",
       "    }\n",
       "</style>\n",
       "<table border=\"1\" class=\"dataframe\">\n",
       "  <thead>\n",
       "    <tr style=\"text-align: right;\">\n",
       "      <th></th>\n",
       "      <th>결과</th>\n",
       "    </tr>\n",
       "  </thead>\n",
       "  <tbody>\n",
       "    <tr>\n",
       "      <th>count</th>\n",
       "      <td>50.000000</td>\n",
       "    </tr>\n",
       "    <tr>\n",
       "      <th>mean</th>\n",
       "      <td>0.860000</td>\n",
       "    </tr>\n",
       "    <tr>\n",
       "      <th>std</th>\n",
       "      <td>0.947822</td>\n",
       "    </tr>\n",
       "    <tr>\n",
       "      <th>min</th>\n",
       "      <td>0.000000</td>\n",
       "    </tr>\n",
       "    <tr>\n",
       "      <th>25%</th>\n",
       "      <td>0.000000</td>\n",
       "    </tr>\n",
       "    <tr>\n",
       "      <th>50%</th>\n",
       "      <td>0.000000</td>\n",
       "    </tr>\n",
       "    <tr>\n",
       "      <th>75%</th>\n",
       "      <td>2.000000</td>\n",
       "    </tr>\n",
       "    <tr>\n",
       "      <th>max</th>\n",
       "      <td>2.000000</td>\n",
       "    </tr>\n",
       "  </tbody>\n",
       "</table>\n",
       "</div>"
      ],
      "text/plain": [
       "              결과\n",
       "count  50.000000\n",
       "mean    0.860000\n",
       "std     0.947822\n",
       "min     0.000000\n",
       "25%     0.000000\n",
       "50%     0.000000\n",
       "75%     2.000000\n",
       "max     2.000000"
      ]
     },
     "execution_count": 1,
     "metadata": {},
     "output_type": "execute_result"
    }
   ],
   "source": [
    "from konlpy.tag import Okt\n",
    "import numpy as np\n",
    "import os, re, kss\n",
    "import matplotlib.pyplot as plt\n",
    "import tensorflow as tf\n",
    "from tensorflow.keras.preprocessing.sequence import pad_sequences\n",
    "from tensorflow.keras.preprocessing.text import Tokenizer\n",
    "import pandas as pd\n",
    "from hanspell import spell_checker\n",
    "\n",
    "DATA_PATH = './somelight_2.csv' # somelight_1.csv 중 처음부터 50개 데이터\n",
    "encoding = 'CP949'\n",
    "print(\"File Size: \"+str(round(os.path.getsize(DATA_PATH)/1000000, 2))+\"MB\")\n",
    "\n",
    "dataset = pd.read_csv(DATA_PATH, header=0, encoding=encoding)\n",
    "dataset.describe()"
   ]
  },
  {
   "cell_type": "code",
   "execution_count": 2,
   "id": "a14ec1b5",
   "metadata": {},
   "outputs": [],
   "source": [
    "okt = Okt() \n",
    "\n",
    "stop_word = pd.read_csv('./ko_stopword.txt', header=0)\n",
    "stop_words = set(stop_word)"
   ]
  },
  {
   "cell_type": "code",
   "execution_count": 32,
   "id": "590e6265",
   "metadata": {},
   "outputs": [],
   "source": [
    "def preprocessing(text, okt, re_stopword = True):\n",
    "    spelled_sent = spell_checker.check(text)\n",
    "    hanspell_sent = spelled_sent.checked\n",
    "    retext_1 = re.sub(\"[a-zA-Zㄱ-ㅎㅏ-ㅣ!?.]\", \"\", hanspell_sent)\n",
    "    retext_2 = okt.morphs(retext_1, stem=True)\n",
    "    \n",
    "    if re_stopword:\n",
    "        clean_text = [token for token in retext_2 if not token in stop_words]\n",
    "    \n",
    "    clean_text = ' '.join(clean_text)\n",
    "    return clean_text"
   ]
  },
  {
   "cell_type": "code",
   "execution_count": 10,
   "id": "d9ec572a",
   "metadata": {},
   "outputs": [],
   "source": [
    "clean_sent = []\n",
    "for re_text in dataset['본문']:\n",
    "    if type(re_text) == str:\n",
    "        clean_text=[]\n",
    "        for sent in kss.split_sentences(re_text):\n",
    "            clean_text += preprocessing(sent, okt)\n",
    "        clean_sent.append(clean_text)\n",
    "    else:\n",
    "        clean_sent.append([])"
   ]
  },
  {
   "cell_type": "code",
   "execution_count": 31,
   "id": "37adb35f",
   "metadata": {},
   "outputs": [],
   "source": [
    "word_index = []\n",
    "for sent in clean_sent:\n",
    "    word_to_index = {word: index for index, word in enumerate(sent)}\n",
    "    word_index.append(word_to_index)"
   ]
  },
  {
   "cell_type": "code",
   "execution_count": 46,
   "id": "5a705cf9",
   "metadata": {},
   "outputs": [],
   "source": [
    "tokenizer = Tokenizer()\n",
    "tokenizer.fit_on_texts(clean_sent)\n",
    "encoded = tokenizer.texts_to_sequences(clean_sent)"
   ]
  },
  {
   "cell_type": "code",
   "execution_count": 72,
   "id": "1b7028ef",
   "metadata": {},
   "outputs": [
    {
     "data": {
      "text/plain": [
       "numpy.ndarray"
      ]
     },
     "execution_count": 72,
     "metadata": {},
     "output_type": "execute_result"
    }
   ],
   "source": [
    "\n",
    "padded = pad_sequences(encoded, padding='post', maxlen = max(len(item) for item in encoded))\n",
    "type(padded)"
   ]
  },
  {
   "cell_type": "code",
   "execution_count": 76,
   "id": "c14404af",
   "metadata": {},
   "outputs": [
    {
     "data": {
      "text/plain": [
       "(50, 786)"
      ]
     },
     "execution_count": 76,
     "metadata": {},
     "output_type": "execute_result"
    }
   ],
   "source": [
    "padded.shape"
   ]
  },
  {
   "cell_type": "code",
   "execution_count": null,
   "id": "99cc20fd",
   "metadata": {},
   "outputs": [],
   "source": []
  }
 ],
 "metadata": {
  "kernelspec": {
   "display_name": "Python 3 (ipykernel)",
   "language": "python",
   "name": "python3"
  },
  "language_info": {
   "codemirror_mode": {
    "name": "ipython",
    "version": 3
   },
   "file_extension": ".py",
   "mimetype": "text/x-python",
   "name": "python",
   "nbconvert_exporter": "python",
   "pygments_lexer": "ipython3",
   "version": "3.7.16"
  }
 },
 "nbformat": 4,
 "nbformat_minor": 5
}
